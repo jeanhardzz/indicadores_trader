{
 "cells": [
  {
   "cell_type": "code",
   "execution_count": 1,
   "metadata": {},
   "outputs": [
    {
     "name": "stdout",
     "output_type": "stream",
     "text": [
      "<class 'pandas.core.frame.DataFrame'>\n",
      "RangeIndex: 1990691 entries, 0 to 1990690\n",
      "Data columns (total 8 columns):\n",
      " #   Column             Dtype  \n",
      "---  ------             -----  \n",
      " 0   Timestamp          int64  \n",
      " 1   Open               float64\n",
      " 2   High               float64\n",
      " 3   Low                float64\n",
      " 4   Close              float64\n",
      " 5   Volume_(BTC)       float64\n",
      " 6   Volume_(Currency)  float64\n",
      " 7   Weighted_Price     float64\n",
      "dtypes: float64(7), int64(1)\n",
      "memory usage: 121.5 MB\n"
     ]
    }
   ],
   "source": [
    "import pandas as pd\n",
    "dados = pd.read_csv(\"coinbaseUSD_1-min_data_2014-12-01_to_2019-01-09.csv\")\n",
    "dados.dropna(subset=dados.columns,inplace=True)\n",
    "dados.index = range(dados.shape[0])\n",
    "dados.info()"
   ]
  },
  {
   "cell_type": "markdown",
   "metadata": {},
   "source": [
    "# Médias Móveis\n",
    "\n",
    "Média Móvel é uma media do preço dos ultimos N fechamentos de um ativo.\n",
    "\n",
    "Sendo que o N é chamado de periodo, e esta sendo utilizando um periodo de 20. Dependendo do dataset, 20 periodos podem ser 20 minutos, 20 horas, 20 dias ou 20 anos.\n",
    "\n",
    "No dataset utilizado 20 periodos representam 20 minutos."
   ]
  },
  {
   "cell_type": "code",
   "execution_count": 2,
   "metadata": {},
   "outputs": [
    {
     "data": {
      "text/plain": [
       "0                NaN\n",
       "1                NaN\n",
       "2                NaN\n",
       "3                NaN\n",
       "4                NaN\n",
       "             ...    \n",
       "1990686    4010.9300\n",
       "1990687    4010.4410\n",
       "1990688    4010.0095\n",
       "1990689    4009.3820\n",
       "1990690    4008.9380\n",
       "Name: Close, Length: 1990691, dtype: float64"
      ]
     },
     "execution_count": 2,
     "metadata": {},
     "output_type": "execute_result"
    }
   ],
   "source": [
    "media=dados['Close'].rolling(window=20).mean()\n",
    "media"
   ]
  },
  {
   "cell_type": "markdown",
   "metadata": {},
   "source": [
    "# Médias Móveis Exponenciais\n",
    "\n",
    "Média Móvel Exponencial é uma media ponderada do preço dos ultimos N fechamentos de um ativo, dando mais peso para os fechamentos mais próximos.\n",
    "\n",
    "Sendo que o N é chamado de periodo, e esta sendo utilizando um periodo de 20. Dependendo do dataset, 20 periodos podem ser 20 minutos, 20 horas, 20 dias ou 20 anos.\n",
    "\n",
    "No dataset utilizado 20 periodos representam 20 minutos."
   ]
  },
  {
   "cell_type": "code",
   "execution_count": 3,
   "metadata": {},
   "outputs": [
    {
     "data": {
      "text/plain": [
       "0           300.000000\n",
       "1           300.000000\n",
       "2           306.666667\n",
       "3           312.698413\n",
       "4           318.822373\n",
       "              ...     \n",
       "1990686    4009.408206\n",
       "1990687    4009.084568\n",
       "1990688    4008.791752\n",
       "1990689    4008.478252\n",
       "1990690    4008.241275\n",
       "Name: Close, Length: 1990691, dtype: float64"
      ]
     },
     "execution_count": 3,
     "metadata": {},
     "output_type": "execute_result"
    }
   ],
   "source": [
    "media = dados['Close'].ewm(span=20, adjust=False).mean()\n",
    "media"
   ]
  },
  {
   "cell_type": "markdown",
   "metadata": {},
   "source": [
    "# Índices de Força Relativa\n",
    "O indice de força relativa (RSI em inglês) foi desenvolvido por J. Welles Wilder. É um indice com escala de variação fixa, ou seja, varia entre 0 e 100.\n",
    "\n",
    "É usado para identificar a subvalorização ou sobrevalorização de um ativo. Exemplo: Quanto maior o indice (>70) mais sobrevalorizada o ativo esta, e quanto menor o indice (<30) mais subvalorizada o ativo esta.\n",
    "\n",
    "**IFR = 100 – (100 ÷ (1+ (U/D))**\n",
    "\n",
    "\n",
    "* IFR = Índice de Força Relativa\n",
    "* U = Média das cotações dos últimos n dias em que a cotação da ação subiu. Trata-se da soma das cotações dos últimos n dias em que a cotação da ação subiu, dividido por n.\n",
    "* D = Média das cotações dos últimos n dias em que a cotação da ação caiu. Trata-se da soma das cotações dos últimos n dias em que a cotação da ação caiu, dividido por n.\n",
    "* n = O numero de dias mais utilizado pelo mercado é 14, e recomendado por Wilder quando da publicação de seu livro. Por isso, esse é o default da plataforma gráfica de análise técnica do Bússola do Investidor. Mas também é comum usar um IFR de 9 ou 25 dias, e você pode customizar o indicador para quantos períodos desejar."
   ]
  },
  {
   "cell_type": "code",
   "execution_count": 4,
   "metadata": {},
   "outputs": [],
   "source": [
    "import numpy as np\n",
    "\n",
    "def calcula_indices_de_força_relativa(precos, n=14):\n",
    "        \"\"\"Retorna uma lista com os índices de força relativa dado uma Serie de preços\"\"\"\n",
    "        # Qual que é a ideia\n",
    "        # Calcular os deltas, que sao a diferença entre o preço[0] e o preço[1]\n",
    "        # Calcular o rsi pros n primeiros deltas;\n",
    "        # Esses n-rsi primeiros serao iguais obviamente;\n",
    "        # Depois vou percorrer os deltas faltantes pra calcular os rsi faltantes\n",
    "        # Dentro do for vou corrigindo os valores da media da taxa de cotação quando ela sobe e quando ela desce\n",
    "        # Depois calculo o RSI usando a media da taxa de cotação corrigida\n",
    "\n",
    "        \n",
    "        # fazendo o calculo dos n primeiros pra inicializar a conta\n",
    "\n",
    "        deltas = np.diff(precos)  # pegando a diferença preco[0]-preco[1] e guardando em deltas[0]\n",
    "        primeiros = deltas[:n]  # pegando as diferença 14 primeiras diferenças\n",
    "                \n",
    "        ganho = primeiros[primeiros >= 0].sum() / n  # media das diferenças positivas dentre as 14 iniciais\n",
    "        perda = -primeiros[primeiros < 0].sum() / n  # media das diferenças negativas dentre as 14 iniciais\n",
    "\n",
    "        forca_relativa = ganho / perda  # calculando a força relativa\n",
    "\n",
    "        rsi = np.zeros_like(precos)  # criando uma copia de precos só com zeros\n",
    "\n",
    "        rsi[:n] = 100. - 100. / (1. + forca_relativa)  # calculando rsi para os 14 primeiros precos, serao iguais\n",
    "\n",
    "        # print(deltas,primeiros,ganho,perda,rsi[:n+1], sep='\\n')\n",
    "        # print(deltas[:n+1])\n",
    "\n",
    "        # for pra calcular o resto dos rsi\n",
    "        for i in range(n, len(precos)):\n",
    "            delta = deltas[i - 1]\n",
    "            # tem que ser deltas[i-1] porque é a diferença do preço anterior com o preço atual\n",
    "            # se fosse deltas[i] seria a diferença do preço atual com o proximo preço\n",
    "\n",
    "            if (delta >= 0):\n",
    "                ganho_variacao = delta\n",
    "                perda_variacao = 0.\n",
    "            else:\n",
    "                ganho_variacao = 0.\n",
    "                perda_variacao = -delta\n",
    "\n",
    "            # corrigindo\n",
    "            ganho = (ganho * (n - 1) + ganho_variacao) / n\n",
    "            perda = (perda * (n - 1) + perda_variacao) / n\n",
    "\n",
    "            forca_relativa = ganho / perda\n",
    "\n",
    "            rsi[i] = 100. - 100. / (1. + forca_relativa)\n",
    "\n",
    "        return rsi"
   ]
  },
  {
   "cell_type": "code",
   "execution_count": 5,
   "metadata": {},
   "outputs": [
    {
     "data": {
      "text/html": [
       "<div>\n",
       "<style scoped>\n",
       "    .dataframe tbody tr th:only-of-type {\n",
       "        vertical-align: middle;\n",
       "    }\n",
       "\n",
       "    .dataframe tbody tr th {\n",
       "        vertical-align: top;\n",
       "    }\n",
       "\n",
       "    .dataframe thead th {\n",
       "        text-align: right;\n",
       "    }\n",
       "</style>\n",
       "<table border=\"1\" class=\"dataframe\">\n",
       "  <thead>\n",
       "    <tr style=\"text-align: right;\">\n",
       "      <th></th>\n",
       "      <th>0</th>\n",
       "    </tr>\n",
       "  </thead>\n",
       "  <tbody>\n",
       "    <tr>\n",
       "      <th>0</th>\n",
       "      <td>99.872123</td>\n",
       "    </tr>\n",
       "    <tr>\n",
       "      <th>1</th>\n",
       "      <td>99.872123</td>\n",
       "    </tr>\n",
       "    <tr>\n",
       "      <th>2</th>\n",
       "      <td>99.872123</td>\n",
       "    </tr>\n",
       "    <tr>\n",
       "      <th>3</th>\n",
       "      <td>99.872123</td>\n",
       "    </tr>\n",
       "    <tr>\n",
       "      <th>4</th>\n",
       "      <td>99.872123</td>\n",
       "    </tr>\n",
       "    <tr>\n",
       "      <th>...</th>\n",
       "      <td>...</td>\n",
       "    </tr>\n",
       "    <tr>\n",
       "      <th>1990686</th>\n",
       "      <td>36.386558</td>\n",
       "    </tr>\n",
       "    <tr>\n",
       "      <th>1990687</th>\n",
       "      <td>36.386558</td>\n",
       "    </tr>\n",
       "    <tr>\n",
       "      <th>1990688</th>\n",
       "      <td>36.386558</td>\n",
       "    </tr>\n",
       "    <tr>\n",
       "      <th>1990689</th>\n",
       "      <td>34.990379</td>\n",
       "    </tr>\n",
       "    <tr>\n",
       "      <th>1990690</th>\n",
       "      <td>37.472824</td>\n",
       "    </tr>\n",
       "  </tbody>\n",
       "</table>\n",
       "<p>1990691 rows × 1 columns</p>\n",
       "</div>"
      ],
      "text/plain": [
       "                 0\n",
       "0        99.872123\n",
       "1        99.872123\n",
       "2        99.872123\n",
       "3        99.872123\n",
       "4        99.872123\n",
       "...            ...\n",
       "1990686  36.386558\n",
       "1990687  36.386558\n",
       "1990688  36.386558\n",
       "1990689  34.990379\n",
       "1990690  37.472824\n",
       "\n",
       "[1990691 rows x 1 columns]"
      ]
     },
     "execution_count": 5,
     "metadata": {},
     "output_type": "execute_result"
    }
   ],
   "source": [
    "indice_rsi = calcula_indices_de_força_relativa(dados['Close'])\n",
    "indice_rsi = pd.DataFrame(data=indice_rsi)\n",
    "indice_rsi"
   ]
  },
  {
   "cell_type": "markdown",
   "metadata": {},
   "source": []
  },
  {
   "cell_type": "markdown",
   "metadata": {},
   "source": [
    "# Criando coluna DateTime"
   ]
  },
  {
   "cell_type": "code",
   "execution_count": 6,
   "metadata": {},
   "outputs": [
    {
     "data": {
      "text/html": [
       "<div>\n",
       "<style scoped>\n",
       "    .dataframe tbody tr th:only-of-type {\n",
       "        vertical-align: middle;\n",
       "    }\n",
       "\n",
       "    .dataframe tbody tr th {\n",
       "        vertical-align: top;\n",
       "    }\n",
       "\n",
       "    .dataframe thead th {\n",
       "        text-align: right;\n",
       "    }\n",
       "</style>\n",
       "<table border=\"1\" class=\"dataframe\">\n",
       "  <thead>\n",
       "    <tr style=\"text-align: right;\">\n",
       "      <th></th>\n",
       "      <th>Timestamp</th>\n",
       "      <th>Open</th>\n",
       "      <th>High</th>\n",
       "      <th>Low</th>\n",
       "      <th>Close</th>\n",
       "      <th>Volume_(BTC)</th>\n",
       "      <th>Volume_(Currency)</th>\n",
       "      <th>Weighted_Price</th>\n",
       "      <th>Datetime</th>\n",
       "    </tr>\n",
       "  </thead>\n",
       "  <tbody>\n",
       "    <tr>\n",
       "      <th>0</th>\n",
       "      <td>1417411980</td>\n",
       "      <td>300.00</td>\n",
       "      <td>300.0</td>\n",
       "      <td>300.00</td>\n",
       "      <td>300.0</td>\n",
       "      <td>0.010000</td>\n",
       "      <td>3.00000</td>\n",
       "      <td>300.000000</td>\n",
       "      <td>2014-12-01 05:33:00</td>\n",
       "    </tr>\n",
       "    <tr>\n",
       "      <th>1</th>\n",
       "      <td>1417412400</td>\n",
       "      <td>300.00</td>\n",
       "      <td>300.0</td>\n",
       "      <td>300.00</td>\n",
       "      <td>300.0</td>\n",
       "      <td>0.010000</td>\n",
       "      <td>3.00000</td>\n",
       "      <td>300.000000</td>\n",
       "      <td>2014-12-01 05:40:00</td>\n",
       "    </tr>\n",
       "    <tr>\n",
       "      <th>2</th>\n",
       "      <td>1417415040</td>\n",
       "      <td>370.00</td>\n",
       "      <td>370.0</td>\n",
       "      <td>370.00</td>\n",
       "      <td>370.0</td>\n",
       "      <td>0.010000</td>\n",
       "      <td>3.70000</td>\n",
       "      <td>370.000000</td>\n",
       "      <td>2014-12-01 06:24:00</td>\n",
       "    </tr>\n",
       "    <tr>\n",
       "      <th>3</th>\n",
       "      <td>1417416600</td>\n",
       "      <td>370.00</td>\n",
       "      <td>370.0</td>\n",
       "      <td>370.00</td>\n",
       "      <td>370.0</td>\n",
       "      <td>0.026556</td>\n",
       "      <td>9.82555</td>\n",
       "      <td>370.000000</td>\n",
       "      <td>2014-12-01 06:50:00</td>\n",
       "    </tr>\n",
       "    <tr>\n",
       "      <th>4</th>\n",
       "      <td>1417498140</td>\n",
       "      <td>377.00</td>\n",
       "      <td>377.0</td>\n",
       "      <td>377.00</td>\n",
       "      <td>377.0</td>\n",
       "      <td>0.010000</td>\n",
       "      <td>3.77000</td>\n",
       "      <td>377.000000</td>\n",
       "      <td>2014-12-02 05:29:00</td>\n",
       "    </tr>\n",
       "    <tr>\n",
       "      <th>5</th>\n",
       "      <td>1417517940</td>\n",
       "      <td>377.75</td>\n",
       "      <td>378.0</td>\n",
       "      <td>377.75</td>\n",
       "      <td>378.0</td>\n",
       "      <td>4.000000</td>\n",
       "      <td>1511.93750</td>\n",
       "      <td>377.984375</td>\n",
       "      <td>2014-12-02 10:59:00</td>\n",
       "    </tr>\n",
       "    <tr>\n",
       "      <th>6</th>\n",
       "      <td>1417518240</td>\n",
       "      <td>378.00</td>\n",
       "      <td>378.0</td>\n",
       "      <td>378.00</td>\n",
       "      <td>378.0</td>\n",
       "      <td>4.900000</td>\n",
       "      <td>1852.20000</td>\n",
       "      <td>378.000000</td>\n",
       "      <td>2014-12-02 11:04:00</td>\n",
       "    </tr>\n",
       "    <tr>\n",
       "      <th>7</th>\n",
       "      <td>1417518300</td>\n",
       "      <td>378.00</td>\n",
       "      <td>378.0</td>\n",
       "      <td>378.00</td>\n",
       "      <td>378.0</td>\n",
       "      <td>5.200000</td>\n",
       "      <td>1965.60000</td>\n",
       "      <td>378.000000</td>\n",
       "      <td>2014-12-02 11:05:00</td>\n",
       "    </tr>\n",
       "    <tr>\n",
       "      <th>8</th>\n",
       "      <td>1417545780</td>\n",
       "      <td>378.00</td>\n",
       "      <td>378.0</td>\n",
       "      <td>378.00</td>\n",
       "      <td>378.0</td>\n",
       "      <td>0.100000</td>\n",
       "      <td>37.80000</td>\n",
       "      <td>378.000000</td>\n",
       "      <td>2014-12-02 18:43:00</td>\n",
       "    </tr>\n",
       "    <tr>\n",
       "      <th>9</th>\n",
       "      <td>1417546680</td>\n",
       "      <td>378.00</td>\n",
       "      <td>378.0</td>\n",
       "      <td>378.00</td>\n",
       "      <td>378.0</td>\n",
       "      <td>0.793600</td>\n",
       "      <td>299.98080</td>\n",
       "      <td>378.000000</td>\n",
       "      <td>2014-12-02 18:58:00</td>\n",
       "    </tr>\n",
       "  </tbody>\n",
       "</table>\n",
       "</div>"
      ],
      "text/plain": [
       "    Timestamp    Open   High     Low  Close  Volume_(BTC)  Volume_(Currency)  \\\n",
       "0  1417411980  300.00  300.0  300.00  300.0      0.010000            3.00000   \n",
       "1  1417412400  300.00  300.0  300.00  300.0      0.010000            3.00000   \n",
       "2  1417415040  370.00  370.0  370.00  370.0      0.010000            3.70000   \n",
       "3  1417416600  370.00  370.0  370.00  370.0      0.026556            9.82555   \n",
       "4  1417498140  377.00  377.0  377.00  377.0      0.010000            3.77000   \n",
       "5  1417517940  377.75  378.0  377.75  378.0      4.000000         1511.93750   \n",
       "6  1417518240  378.00  378.0  378.00  378.0      4.900000         1852.20000   \n",
       "7  1417518300  378.00  378.0  378.00  378.0      5.200000         1965.60000   \n",
       "8  1417545780  378.00  378.0  378.00  378.0      0.100000           37.80000   \n",
       "9  1417546680  378.00  378.0  378.00  378.0      0.793600          299.98080   \n",
       "\n",
       "   Weighted_Price            Datetime  \n",
       "0      300.000000 2014-12-01 05:33:00  \n",
       "1      300.000000 2014-12-01 05:40:00  \n",
       "2      370.000000 2014-12-01 06:24:00  \n",
       "3      370.000000 2014-12-01 06:50:00  \n",
       "4      377.000000 2014-12-02 05:29:00  \n",
       "5      377.984375 2014-12-02 10:59:00  \n",
       "6      378.000000 2014-12-02 11:04:00  \n",
       "7      378.000000 2014-12-02 11:05:00  \n",
       "8      378.000000 2014-12-02 18:43:00  \n",
       "9      378.000000 2014-12-02 18:58:00  "
      ]
     },
     "execution_count": 6,
     "metadata": {},
     "output_type": "execute_result"
    }
   ],
   "source": [
    "from datetime import datetime\n",
    "import time\n",
    "\n",
    "def fun_date (x):\n",
    "    dt = datetime.utcfromtimestamp(x)    \n",
    "    return dt\n",
    "dados['Datetime'] = dados['Timestamp'].apply(fun_date)\n",
    "\n",
    "\n",
    "dados.index= range(dados.shape[0])\n",
    "\n",
    "dados.head(10)"
   ]
  },
  {
   "cell_type": "markdown",
   "metadata": {},
   "source": [
    "# Teste gráficos"
   ]
  },
  {
   "cell_type": "code",
   "execution_count": 7,
   "metadata": {},
   "outputs": [
    {
     "data": {
      "image/png": "[encoded data removed]",
      "text/plain": [
       "<Figure size 1080x504 with 1 Axes>"
      ]
     },
     "metadata": {
      "needs_background": "light"
     },
     "output_type": "display_data"
    }
   ],
   "source": [
    "import matplotlib.pyplot as plt\n",
    "plt.rcParams['figure.figsize'] = (15,7)\n",
    "\n",
    "selecao = (dados[\"Timestamp\"] >= 1417411980 ) & (dados[\"Timestamp\"] <= 1420681680)\n",
    "df = dados[selecao]\n",
    "\n",
    "exp1=df['Close'].ewm(span=5, adjust=False).mean()\n",
    "exp2=df['Close'].ewm(span=20, adjust=False).mean()\n",
    "\n",
    "plt.plot(df['Datetime'], df['Close'], label='Fechamento')\n",
    "plt.plot(df['Datetime'], exp1, label='exp 5')\n",
    "plt.plot(df['Datetime'], exp2, label='exp 20')\n",
    "plt.legend(loc='upper left')\n",
    "plt.show()"
   ]
  },
  {
   "cell_type": "markdown",
   "metadata": {},
   "source": [
    "*  O periodo de minutos é muito ruim de trabalhar, vamo transformar isso em dias."
   ]
  },
  {
   "cell_type": "markdown",
   "metadata": {},
   "source": [
    "# Criando novo DataSet com periodo em DIAS\n",
    "\n",
    "* Vou pegar a coluna Datetime e a coluna Close e passar para o novo dataset a media dos fechamentos dos candles no dia"
   ]
  },
  {
   "cell_type": "code",
   "execution_count": 8,
   "metadata": {},
   "outputs": [
    {
     "data": {
      "text/plain": [
       "Timestamp('2019-01-07 22:06:00')"
      ]
     },
     "execution_count": 8,
     "metadata": {},
     "output_type": "execute_result"
    }
   ],
   "source": [
    "ultima_data = dados['Datetime'][-1:].values # 2019-01-07 22:06:00\n",
    "ultima_data = ultima_data[0]\n",
    "ultima_data = pd.to_datetime(ultima_data)\n",
    "ultima_data"
   ]
  },
  {
   "cell_type": "code",
   "execution_count": 9,
   "metadata": {},
   "outputs": [],
   "source": [
    "data_inicial =  pd.to_datetime('12-01-2014 00:00')\n",
    "dic_mes = {}\n",
    "while(data_inicial < ultima_data):    \n",
    "    selecao = (dados['Datetime'] >= data_inicial) & (dados['Datetime'] < data_inicial + pd.DateOffset(1))\n",
    "    aux = dados[selecao]\n",
    "\n",
    "    dic_mes[data_inicial.date()] = aux['Close'].mean()    \n",
    "    \n",
    "    data_inicial = data_inicial + pd.DateOffset(1)"
   ]
  },
  {
   "cell_type": "code",
   "execution_count": 10,
   "metadata": {},
   "outputs": [
    {
     "data": {
      "text/html": [
       "<div>\n",
       "<style scoped>\n",
       "    .dataframe tbody tr th:only-of-type {\n",
       "        vertical-align: middle;\n",
       "    }\n",
       "\n",
       "    .dataframe tbody tr th {\n",
       "        vertical-align: top;\n",
       "    }\n",
       "\n",
       "    .dataframe thead th {\n",
       "        text-align: right;\n",
       "    }\n",
       "</style>\n",
       "<table border=\"1\" class=\"dataframe\">\n",
       "  <thead>\n",
       "    <tr style=\"text-align: right;\">\n",
       "      <th></th>\n",
       "      <th>Close</th>\n",
       "    </tr>\n",
       "  </thead>\n",
       "  <tbody>\n",
       "    <tr>\n",
       "      <th>2014-12-01</th>\n",
       "      <td>335.000000</td>\n",
       "    </tr>\n",
       "    <tr>\n",
       "      <th>2014-12-02</th>\n",
       "      <td>377.857143</td>\n",
       "    </tr>\n",
       "    <tr>\n",
       "      <th>2014-12-03</th>\n",
       "      <td>377.818333</td>\n",
       "    </tr>\n",
       "    <tr>\n",
       "      <th>2014-12-04</th>\n",
       "      <td>377.100000</td>\n",
       "    </tr>\n",
       "    <tr>\n",
       "      <th>2014-12-06</th>\n",
       "      <td>378.000000</td>\n",
       "    </tr>\n",
       "    <tr>\n",
       "      <th>...</th>\n",
       "      <td>...</td>\n",
       "    </tr>\n",
       "    <tr>\n",
       "      <th>2019-01-03</th>\n",
       "      <td>3829.922118</td>\n",
       "    </tr>\n",
       "    <tr>\n",
       "      <th>2019-01-04</th>\n",
       "      <td>3785.405590</td>\n",
       "    </tr>\n",
       "    <tr>\n",
       "      <th>2019-01-05</th>\n",
       "      <td>3834.609424</td>\n",
       "    </tr>\n",
       "    <tr>\n",
       "      <th>2019-01-06</th>\n",
       "      <td>3874.451625</td>\n",
       "    </tr>\n",
       "    <tr>\n",
       "      <th>2019-01-07</th>\n",
       "      <td>4025.089887</td>\n",
       "    </tr>\n",
       "  </tbody>\n",
       "</table>\n",
       "<p>1465 rows × 1 columns</p>\n",
       "</div>"
      ],
      "text/plain": [
       "                  Close\n",
       "2014-12-01   335.000000\n",
       "2014-12-02   377.857143\n",
       "2014-12-03   377.818333\n",
       "2014-12-04   377.100000\n",
       "2014-12-06   378.000000\n",
       "...                 ...\n",
       "2019-01-03  3829.922118\n",
       "2019-01-04  3785.405590\n",
       "2019-01-05  3834.609424\n",
       "2019-01-06  3874.451625\n",
       "2019-01-07  4025.089887\n",
       "\n",
       "[1465 rows x 1 columns]"
      ]
     },
     "execution_count": 10,
     "metadata": {},
     "output_type": "execute_result"
    }
   ],
   "source": [
    "dados_mes = pd.Series(dic_mes).to_frame('Close')\n",
    "dados_mes.dropna(subset=dados_mes.columns,inplace=True)\n",
    "dados_mes\n",
    "#Media dos fechamentos naquele dia"
   ]
  },
  {
   "cell_type": "markdown",
   "metadata": {},
   "source": [
    "# Gráficos com DataSet em DIAS"
   ]
  },
  {
   "cell_type": "code",
   "execution_count": 11,
   "metadata": {},
   "outputs": [
    {
     "data": {
      "image/png": "[encoded data removed]",
      "text/plain": [
       "<Figure size 1080x504 with 1 Axes>"
      ]
     },
     "metadata": {
      "needs_background": "light"
     },
     "output_type": "display_data"
    }
   ],
   "source": [
    "data_1 = pd.to_datetime('12-01-2014')\n",
    "data_2 = pd.to_datetime('12-01-2015')\n",
    "selecao = (dados_mes.index >= data_1  ) & (dados_mes.index <= data_2)\n",
    "df_mes = dados_mes[selecao]\n",
    "\n",
    "exp1=df_mes['Close'].ewm(span=5, adjust=False).mean()\n",
    "exp2=df_mes['Close'].ewm(span=20, adjust=False).mean()\n",
    "\n",
    "plt.plot(df_mes.index, df_mes['Close'], label='Fechamento')\n",
    "plt.plot(df_mes.index, exp1, label='exp 5')\n",
    "plt.plot(df_mes.index, exp2, label='exp 20')\n",
    "plt.legend(loc='upper left')\n",
    "plt.show()"
   ]
  }
 ],
 "metadata": {
  "kernelspec": {
   "display_name": "Python 3",
   "language": "python",
   "name": "python3"
  },
  "language_info": {
   "codemirror_mode": {
    "name": "ipython",
    "version": 3
   },
   "file_extension": ".py",
   "mimetype": "text/x-python",
   "name": "python",
   "nbconvert_exporter": "python",
   "pygments_lexer": "ipython3",
   "version": "3.7.6"
  }
 },
 "nbformat": 4,
 "nbformat_minor": 4
}
